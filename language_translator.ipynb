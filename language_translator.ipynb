{
  "nbformat": 4,
  "nbformat_minor": 0,
  "metadata": {
    "colab": {
      "provenance": []
    },
    "kernelspec": {
      "name": "python3",
      "display_name": "Python 3"
    },
    "language_info": {
      "name": "python"
    }
  },
  "cells": [
    {
      "cell_type": "code",
      "execution_count": null,
      "metadata": {
        "id": "qATt2Hm3MYlF"
      },
      "outputs": [],
      "source": [
        "import streamlit as st\n",
        "from deep_translator import GoogleTranslator\n",
        "\n",
        "# App title\n",
        "st.set_page_config(page_title=\"Language Translator\", page_icon=\"🌐\")\n",
        "st.title(\"🌐 Language Translation Tool\")\n",
        "\n",
        "# Text input\n",
        "text = st.text_area(\"Enter text to translate:\", \"\")\n",
        "\n",
        "# Language selection\n",
        "languages = [\n",
        "    'auto', 'english', 'french', 'german', 'hindi', 'spanish',\n",
        "    'italian', 'chinese', 'japanese', 'korean', 'arabic', 'russian', 'portuguese'\n",
        "]\n",
        "\n",
        "source_lang = st.selectbox(\"Select source language\", languages, index=0)\n",
        "target_lang = st.selectbox(\"Select target language\", languages, index=1)\n",
        "\n",
        "# Translate button\n",
        "if st.button(\"Translate\"):\n",
        "    if text.strip() == \"\":\n",
        "        st.warning(\"Please enter some text to translate.\")\n",
        "    elif source_lang == target_lang:\n",
        "        st.info(\"Source and target languages are the same.\")\n",
        "        st.write(text)\n",
        "    else:\n",
        "        try:\n",
        "            translated = GoogleTranslator(source=source_lang, target=target_lang).translate(text)\n",
        "            st.success(\"Translated Text:\")\n",
        "            st.write(translated)\n",
        "        except Exception as e:\n",
        "            st.error(f\"Translation failed: {e}\")\n"
      ]
    }
  ]
}